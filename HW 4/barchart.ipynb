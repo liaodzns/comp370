{
 "cells": [
  {
   "cell_type": "code",
   "execution_count": 1,
   "id": "9c03a76d-62e5-4538-81d0-59dc1b873181",
   "metadata": {},
   "outputs": [],
   "source": [
    "import pandas as pd"
   ]
  },
  {
   "cell_type": "code",
   "execution_count": 6,
   "id": "62cfffc2-6a92-4f70-9264-76f693a52579",
   "metadata": {},
   "outputs": [],
   "source": [
    "import matplotlib"
   ]
  },
  {
   "cell_type": "code",
   "execution_count": 7,
   "id": "85a8b37a-a76a-4aba-8eb8-89cc8e1bafdf",
   "metadata": {},
   "outputs": [],
   "source": [
    "import numpy as np"
   ]
  },
  {
   "cell_type": "code",
   "execution_count": 9,
   "id": "b6569cb1-19b2-4b41-8d1f-842c7f433941",
   "metadata": {},
   "outputs": [],
   "source": [
    "import matplotlib.pyplot as plt"
   ]
  },
  {
   "cell_type": "code",
   "execution_count": 10,
   "id": "6f50c66f-e456-4605-bced-0fe082c8fdb2",
   "metadata": {},
   "outputs": [
    {
     "name": "stdout",
     "output_type": "stream",
     "text": [
      "Pandas version: 2.2.2\n",
      "Numpy version: 1.26.4\n",
      "Matplotlib version: 3.9.2\n"
     ]
    }
   ],
   "source": [
    "print(f\"Pandas version: {pd.__version__}\")\n",
    "print(f\"Numpy version: {np.__version__}\")\n",
    "print(f\"Matplotlib version: {matplotlib.__version__}\")\n"
   ]
  },
  {
   "cell_type": "code",
   "execution_count": 11,
   "id": "20b1e8cf-a092-4ea5-9c35-cf7c40d06331",
   "metadata": {},
   "outputs": [
    {
     "name": "stdout",
     "output_type": "stream",
     "text": [
      "Output written to jan_feb.csv\n"
     ]
    }
   ],
   "source": [
    "!python borough_complaints.py -i nyc_2020.csv -s 2020-01-01 -e 2020-02-29 -o jan_feb.csv"
   ]
  },
  {
   "cell_type": "code",
   "execution_count": 12,
   "id": "2b4b8ed6-0c88-44e9-b108-7de84d8e6f1a",
   "metadata": {},
   "outputs": [],
   "source": [
    "df = pd.read_csv('jan_feb.csv')"
   ]
  },
  {
   "cell_type": "code",
   "execution_count": 13,
   "id": "630a6e76-b4c4-42a1-8e72-a21b545d1a44",
   "metadata": {},
   "outputs": [
    {
     "data": {
      "text/html": [
       "<div>\n",
       "<style scoped>\n",
       "    .dataframe tbody tr th:only-of-type {\n",
       "        vertical-align: middle;\n",
       "    }\n",
       "\n",
       "    .dataframe tbody tr th {\n",
       "        vertical-align: top;\n",
       "    }\n",
       "\n",
       "    .dataframe thead th {\n",
       "        text-align: right;\n",
       "    }\n",
       "</style>\n",
       "<table border=\"1\" class=\"dataframe\">\n",
       "  <thead>\n",
       "    <tr style=\"text-align: right;\">\n",
       "      <th></th>\n",
       "      <th>complaint_type</th>\n",
       "      <th>borough</th>\n",
       "      <th>count</th>\n",
       "    </tr>\n",
       "  </thead>\n",
       "  <tbody>\n",
       "    <tr>\n",
       "      <th>0</th>\n",
       "      <td>APPLIANCE</td>\n",
       "      <td>BRONX</td>\n",
       "      <td>423</td>\n",
       "    </tr>\n",
       "    <tr>\n",
       "      <th>1</th>\n",
       "      <td>APPLIANCE</td>\n",
       "      <td>BROOKLYN</td>\n",
       "      <td>412</td>\n",
       "    </tr>\n",
       "    <tr>\n",
       "      <th>2</th>\n",
       "      <td>APPLIANCE</td>\n",
       "      <td>MANHATTAN</td>\n",
       "      <td>250</td>\n",
       "    </tr>\n",
       "    <tr>\n",
       "      <th>3</th>\n",
       "      <td>APPLIANCE</td>\n",
       "      <td>QUEENS</td>\n",
       "      <td>137</td>\n",
       "    </tr>\n",
       "    <tr>\n",
       "      <th>4</th>\n",
       "      <td>APPLIANCE</td>\n",
       "      <td>STATEN ISLAND</td>\n",
       "      <td>24</td>\n",
       "    </tr>\n",
       "    <tr>\n",
       "      <th>...</th>\n",
       "      <td>...</td>\n",
       "      <td>...</td>\n",
       "      <td>...</td>\n",
       "    </tr>\n",
       "    <tr>\n",
       "      <th>721</th>\n",
       "      <td>Water System</td>\n",
       "      <td>STATEN ISLAND</td>\n",
       "      <td>605</td>\n",
       "    </tr>\n",
       "    <tr>\n",
       "      <th>722</th>\n",
       "      <td>Water System</td>\n",
       "      <td>Unspecified</td>\n",
       "      <td>3</td>\n",
       "    </tr>\n",
       "    <tr>\n",
       "      <th>723</th>\n",
       "      <td>Window Guard</td>\n",
       "      <td>BRONX</td>\n",
       "      <td>1</td>\n",
       "    </tr>\n",
       "    <tr>\n",
       "      <th>724</th>\n",
       "      <td>Window Guard</td>\n",
       "      <td>QUEENS</td>\n",
       "      <td>1</td>\n",
       "    </tr>\n",
       "    <tr>\n",
       "      <th>725</th>\n",
       "      <td>X-Ray Machine/Equipment</td>\n",
       "      <td>BROOKLYN</td>\n",
       "      <td>1</td>\n",
       "    </tr>\n",
       "  </tbody>\n",
       "</table>\n",
       "<p>726 rows × 3 columns</p>\n",
       "</div>"
      ],
      "text/plain": [
       "              complaint_type        borough  count\n",
       "0                  APPLIANCE          BRONX    423\n",
       "1                  APPLIANCE       BROOKLYN    412\n",
       "2                  APPLIANCE      MANHATTAN    250\n",
       "3                  APPLIANCE         QUEENS    137\n",
       "4                  APPLIANCE  STATEN ISLAND     24\n",
       "..                       ...            ...    ...\n",
       "721             Water System  STATEN ISLAND    605\n",
       "722             Water System    Unspecified      3\n",
       "723             Window Guard          BRONX      1\n",
       "724             Window Guard         QUEENS      1\n",
       "725  X-Ray Machine/Equipment       BROOKLYN      1\n",
       "\n",
       "[726 rows x 3 columns]"
      ]
     },
     "metadata": {},
     "output_type": "display_data"
    }
   ],
   "source": [
    "display(df)"
   ]
  },
  {
   "cell_type": "code",
   "execution_count": 14,
   "id": "2667e005-d8a5-4b79-a14a-7fd60999772f",
   "metadata": {},
   "outputs": [],
   "source": [
    "complaint_type_counts = df.groupby('complaint_type')['count'].sum()"
   ]
  },
  {
   "cell_type": "code",
   "execution_count": 15,
   "id": "bc2080e2-a2f6-483a-932c-6768098f60ed",
   "metadata": {},
   "outputs": [],
   "source": [
    "most_abundant_complaint_type = complaint_type_counts.idxmax()"
   ]
  },
  {
   "cell_type": "code",
   "execution_count": 16,
   "id": "5542804d-5a74-4b2d-a504-e3b8f31822a5",
   "metadata": {},
   "outputs": [],
   "source": [
    "df_most_abundant = df[df['complaint_type'] == most_abundant_complaint_type]"
   ]
  },
  {
   "cell_type": "code",
   "execution_count": 17,
   "id": "37748d42-6b41-45ba-8cfe-e2e374bfd22d",
   "metadata": {},
   "outputs": [
    {
     "name": "stdout",
     "output_type": "stream",
     "text": [
      "The most abundant complaint type is: HEAT/HOT WATER\n"
     ]
    },
    {
     "data": {
      "text/html": [
       "<div>\n",
       "<style scoped>\n",
       "    .dataframe tbody tr th:only-of-type {\n",
       "        vertical-align: middle;\n",
       "    }\n",
       "\n",
       "    .dataframe tbody tr th {\n",
       "        vertical-align: top;\n",
       "    }\n",
       "\n",
       "    .dataframe thead th {\n",
       "        text-align: right;\n",
       "    }\n",
       "</style>\n",
       "<table border=\"1\" class=\"dataframe\">\n",
       "  <thead>\n",
       "    <tr style=\"text-align: right;\">\n",
       "      <th></th>\n",
       "      <th>complaint_type</th>\n",
       "      <th>borough</th>\n",
       "      <th>count</th>\n",
       "    </tr>\n",
       "  </thead>\n",
       "  <tbody>\n",
       "    <tr>\n",
       "      <th>271</th>\n",
       "      <td>HEAT/HOT WATER</td>\n",
       "      <td>BRONX</td>\n",
       "      <td>15885</td>\n",
       "    </tr>\n",
       "    <tr>\n",
       "      <th>272</th>\n",
       "      <td>HEAT/HOT WATER</td>\n",
       "      <td>BROOKLYN</td>\n",
       "      <td>12078</td>\n",
       "    </tr>\n",
       "    <tr>\n",
       "      <th>273</th>\n",
       "      <td>HEAT/HOT WATER</td>\n",
       "      <td>MANHATTAN</td>\n",
       "      <td>9014</td>\n",
       "    </tr>\n",
       "    <tr>\n",
       "      <th>274</th>\n",
       "      <td>HEAT/HOT WATER</td>\n",
       "      <td>QUEENS</td>\n",
       "      <td>5692</td>\n",
       "    </tr>\n",
       "    <tr>\n",
       "      <th>275</th>\n",
       "      <td>HEAT/HOT WATER</td>\n",
       "      <td>STATEN ISLAND</td>\n",
       "      <td>404</td>\n",
       "    </tr>\n",
       "  </tbody>\n",
       "</table>\n",
       "</div>"
      ],
      "text/plain": [
       "     complaint_type        borough  count\n",
       "271  HEAT/HOT WATER          BRONX  15885\n",
       "272  HEAT/HOT WATER       BROOKLYN  12078\n",
       "273  HEAT/HOT WATER      MANHATTAN   9014\n",
       "274  HEAT/HOT WATER         QUEENS   5692\n",
       "275  HEAT/HOT WATER  STATEN ISLAND    404"
      ]
     },
     "metadata": {},
     "output_type": "display_data"
    }
   ],
   "source": [
    "print(f\"The most abundant complaint type is: {most_abundant_complaint_type}\")\n",
    "display(df_most_abundant)"
   ]
  },
  {
   "cell_type": "code",
   "execution_count": 18,
   "id": "92442d51-6eeb-429c-a24d-3da3111b6890",
   "metadata": {},
   "outputs": [
    {
     "data": {
      "text/plain": [
       "<Axes: xlabel='borough'>"
      ]
     },
     "execution_count": 18,
     "metadata": {},
     "output_type": "execute_result"
    },
    {
     "data": {
      "image/png": "[encoded data removed]",
      "text/plain": [
       "<Figure size 1000x600 with 1 Axes>"
      ]
     },
     "metadata": {},
     "output_type": "display_data"
    }
   ],
   "source": [
    "# bar chart showing the count per borough \n",
    "plt.figure(figsize=(10, 6))\n",
    "\n",
    "# group by borough and plot the counts\n",
    "df_most_abundant.groupby('borough')['count'].sum().plot(kind='bar', color='skyblue')\n"
   ]
  },
  {
   "cell_type": "code",
   "execution_count": 20,
   "id": "77c4cfa8-168a-40ed-ac32-d6b5c66bd4b7",
   "metadata": {},
   "outputs": [
    {
     "name": "stdout",
     "output_type": "stream",
     "text": [
      "Output written to june_july.csv\n"
     ]
    }
   ],
   "source": [
    "!python borough_complaints.py -i nyc_2020.csv -s 2020-06-01 -e 2020-07-31 -o june_july.csv"
   ]
  },
  {
   "cell_type": "code",
   "execution_count": 22,
   "id": "97867456-6d4d-4d00-b0e4-e0da182f6901",
   "metadata": {},
   "outputs": [
    {
     "name": "stdout",
     "output_type": "stream",
     "text": [
      "The most abundant complaint type is: Noise - Residential\n"
     ]
    },
    {
     "data": {
      "text/html": [
       "<div>\n",
       "<style scoped>\n",
       "    .dataframe tbody tr th:only-of-type {\n",
       "        vertical-align: middle;\n",
       "    }\n",
       "\n",
       "    .dataframe tbody tr th {\n",
       "        vertical-align: top;\n",
       "    }\n",
       "\n",
       "    .dataframe thead th {\n",
       "        text-align: right;\n",
       "    }\n",
       "</style>\n",
       "<table border=\"1\" class=\"dataframe\">\n",
       "  <thead>\n",
       "    <tr style=\"text-align: right;\">\n",
       "      <th></th>\n",
       "      <th>complaint_type</th>\n",
       "      <th>borough</th>\n",
       "      <th>count</th>\n",
       "    </tr>\n",
       "  </thead>\n",
       "  <tbody>\n",
       "    <tr>\n",
       "      <th>439</th>\n",
       "      <td>Noise - Residential</td>\n",
       "      <td>BRONX</td>\n",
       "      <td>33743</td>\n",
       "    </tr>\n",
       "    <tr>\n",
       "      <th>440</th>\n",
       "      <td>Noise - Residential</td>\n",
       "      <td>BROOKLYN</td>\n",
       "      <td>18047</td>\n",
       "    </tr>\n",
       "    <tr>\n",
       "      <th>441</th>\n",
       "      <td>Noise - Residential</td>\n",
       "      <td>MANHATTAN</td>\n",
       "      <td>9885</td>\n",
       "    </tr>\n",
       "    <tr>\n",
       "      <th>442</th>\n",
       "      <td>Noise - Residential</td>\n",
       "      <td>QUEENS</td>\n",
       "      <td>15983</td>\n",
       "    </tr>\n",
       "    <tr>\n",
       "      <th>443</th>\n",
       "      <td>Noise - Residential</td>\n",
       "      <td>STATEN ISLAND</td>\n",
       "      <td>2700</td>\n",
       "    </tr>\n",
       "    <tr>\n",
       "      <th>444</th>\n",
       "      <td>Noise - Residential</td>\n",
       "      <td>Unspecified</td>\n",
       "      <td>23</td>\n",
       "    </tr>\n",
       "  </tbody>\n",
       "</table>\n",
       "</div>"
      ],
      "text/plain": [
       "          complaint_type        borough  count\n",
       "439  Noise - Residential          BRONX  33743\n",
       "440  Noise - Residential       BROOKLYN  18047\n",
       "441  Noise - Residential      MANHATTAN   9885\n",
       "442  Noise - Residential         QUEENS  15983\n",
       "443  Noise - Residential  STATEN ISLAND   2700\n",
       "444  Noise - Residential    Unspecified     23"
      ]
     },
     "metadata": {},
     "output_type": "display_data"
    }
   ],
   "source": [
    "df = pd.read_csv('june_july.csv')\n",
    "complaint_type_counts = df.groupby('complaint_type')['count'].sum()\n",
    "most_abundant_complaint_type = complaint_type_counts.idxmax()\n",
    "df_most_abundant = df[df['complaint_type'] == most_abundant_complaint_type]\n",
    "print(f\"The most abundant complaint type is: {most_abundant_complaint_type}\")\n",
    "display(df_most_abundant)"
   ]
  },
  {
   "cell_type": "code",
   "execution_count": 23,
   "id": "8e81e106-420a-4910-ab3b-7e7075036a4d",
   "metadata": {},
   "outputs": [
    {
     "data": {
      "text/plain": [
       "<Axes: xlabel='borough'>"
      ]
     },
     "execution_count": 23,
     "metadata": {},
     "output_type": "execute_result"
    },
    {
     "data": {
      "image/png": "[encoded data removed]",
      "text/plain": [
       "<Figure size 1000x600 with 1 Axes>"
      ]
     },
     "metadata": {},
     "output_type": "display_data"
    }
   ],
   "source": [
    "# bar chart showing the count per borough \n",
    "plt.figure(figsize=(10, 6))\n",
    "\n",
    "# group by borough and plot the counts\n",
    "df_most_abundant.groupby('borough')['count'].sum().plot(kind='bar', color='skyblue')"
   ]
  }
 ],
 "metadata": {
  "kernelspec": {
   "display_name": "Python 3 (ipykernel)",
   "language": "python",
   "name": "python3"
  },
  "language_info": {
   "codemirror_mode": {
    "name": "ipython",
    "version": 3
   },
   "file_extension": ".py",
   "mimetype": "text/x-python",
   "name": "python",
   "nbconvert_exporter": "python",
   "pygments_lexer": "ipython3",
   "version": "3.12.4"
  }
 },
 "nbformat": 4,
 "nbformat_minor": 5
}
